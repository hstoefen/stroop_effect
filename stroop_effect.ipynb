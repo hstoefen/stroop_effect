{
 "cells": [
  {
   "cell_type": "markdown",
   "metadata": {},
   "source": [
    "# Import Stroop Data"
   ]
  },
  {
   "cell_type": "code",
   "execution_count": 16,
   "metadata": {},
   "outputs": [
    {
     "data": {
      "text/html": [
       "<div>\n",
       "<style scoped>\n",
       "    .dataframe tbody tr th:only-of-type {\n",
       "        vertical-align: middle;\n",
       "    }\n",
       "\n",
       "    .dataframe tbody tr th {\n",
       "        vertical-align: top;\n",
       "    }\n",
       "\n",
       "    .dataframe thead th {\n",
       "        text-align: right;\n",
       "    }\n",
       "</style>\n",
       "<table border=\"1\" class=\"dataframe\">\n",
       "  <thead>\n",
       "    <tr style=\"text-align: right;\">\n",
       "      <th></th>\n",
       "      <th>Congruent</th>\n",
       "      <th>Incongruent</th>\n",
       "      <th>Delta</th>\n",
       "    </tr>\n",
       "  </thead>\n",
       "  <tbody>\n",
       "    <tr>\n",
       "      <th>0</th>\n",
       "      <td>12.079</td>\n",
       "      <td>19.278</td>\n",
       "      <td>7.199</td>\n",
       "    </tr>\n",
       "    <tr>\n",
       "      <th>1</th>\n",
       "      <td>16.791</td>\n",
       "      <td>18.741</td>\n",
       "      <td>1.950</td>\n",
       "    </tr>\n",
       "    <tr>\n",
       "      <th>2</th>\n",
       "      <td>9.564</td>\n",
       "      <td>21.214</td>\n",
       "      <td>11.650</td>\n",
       "    </tr>\n",
       "    <tr>\n",
       "      <th>3</th>\n",
       "      <td>8.630</td>\n",
       "      <td>15.687</td>\n",
       "      <td>7.057</td>\n",
       "    </tr>\n",
       "    <tr>\n",
       "      <th>4</th>\n",
       "      <td>14.669</td>\n",
       "      <td>22.803</td>\n",
       "      <td>8.134</td>\n",
       "    </tr>\n",
       "  </tbody>\n",
       "</table>\n",
       "</div>"
      ],
      "text/plain": [
       "   Congruent  Incongruent   Delta\n",
       "0     12.079       19.278   7.199\n",
       "1     16.791       18.741   1.950\n",
       "2      9.564       21.214  11.650\n",
       "3      8.630       15.687   7.057\n",
       "4     14.669       22.803   8.134"
      ]
     },
     "execution_count": 16,
     "metadata": {},
     "output_type": "execute_result"
    }
   ],
   "source": [
    "import pandas as pd\n",
    "s = pd.read_csv('stroopdata.csv', decimal=\".\")\n",
    "s['Delta'] = s['Incongruent'] - s['Congruent']\n",
    "s.head()\n"
   ]
  },
  {
   "cell_type": "markdown",
   "metadata": {},
   "source": [
    "# References\n",
    "[Udacity Course Material](http://www.udacity.com)\n",
    "\n",
    "[Wikipedia](http://www.wikipedia.org)\n",
    "\n",
    "[stackoverflow](http://www.stackoverflow.com)\n",
    "\n",
    "[Stroop Effect](https://faculty.washington.edu/chudler/words.html#seffect)"
   ]
  },
  {
   "cell_type": "markdown",
   "metadata": {},
   "source": [
    "# Variables - Question 1\n",
    "dependent variable: difference between test times for congruent and incongruent tests\n",
    "\n",
    "independent variable: test setup (congruent, incongruent)"
   ]
  },
  {
   "cell_type": "markdown",
   "metadata": {},
   "source": [
    "# Hypothesis Tests - Question 2\n",
    "The null hypothesis used is:<br>\n",
    "> H<sub>0</sub>: Both tests, with congruent colors and incongruent colors take the same average time to answer<br>\n",
    "<br>\n",
    "µ<sub>congruent</sub> $=$ µ<sub>incongruent</sub><br>\n",
    "or µ<sub>delta</sub> $=$ 0\n",
    "\n",
    "The alternative hypothesis is:\n",
    "> H<sub>a</sub>: The test with incongruent colors takes a different average time to answer<br>\n",
    "<br>\n",
    "µ<sub>congruent</sub> $\\neq$ µ<sub>incongruent</sub><br>\n",
    "or µ<sub>delta</sub> $\\neq$ 0\n"
   ]
  },
  {
   "cell_type": "markdown",
   "metadata": {},
   "source": [
    "We have a small sample size and the population parameters are unknown. Hence, we can't compute the z-statistic. I will use the t-statistic instead. Intuition suggests, that the average time to answer the incongruent test should be longer, than the average time taken for the congruent test. However, as we can't be certain, that this is the case, a two-tailed t-test is chosen. There are two dependent samples, for the congruent and the incongruent test. Therefore, I conduct a <br>\n",
    "\n",
    ">two tailed dependent t-test for paired samples"
   ]
  },
  {
   "cell_type": "markdown",
   "metadata": {},
   "source": [
    "# Descriptive Statistics - Question 3"
   ]
  },
  {
   "cell_type": "code",
   "execution_count": 22,
   "metadata": {
    "scrolled": true
   },
   "outputs": [
    {
     "data": {
      "text/html": [
       "<div>\n",
       "<style scoped>\n",
       "    .dataframe tbody tr th:only-of-type {\n",
       "        vertical-align: middle;\n",
       "    }\n",
       "\n",
       "    .dataframe tbody tr th {\n",
       "        vertical-align: top;\n",
       "    }\n",
       "\n",
       "    .dataframe thead th {\n",
       "        text-align: right;\n",
       "    }\n",
       "</style>\n",
       "<table border=\"1\" class=\"dataframe\">\n",
       "  <thead>\n",
       "    <tr style=\"text-align: right;\">\n",
       "      <th></th>\n",
       "      <th>Congruent</th>\n",
       "      <th>Incongruent</th>\n",
       "      <th>Delta</th>\n",
       "    </tr>\n",
       "  </thead>\n",
       "  <tbody>\n",
       "    <tr>\n",
       "      <th>count</th>\n",
       "      <td>24.000000</td>\n",
       "      <td>24.000000</td>\n",
       "      <td>24.000000</td>\n",
       "    </tr>\n",
       "    <tr>\n",
       "      <th>mean</th>\n",
       "      <td>14.051125</td>\n",
       "      <td>22.015917</td>\n",
       "      <td>7.964792</td>\n",
       "    </tr>\n",
       "    <tr>\n",
       "      <th>std</th>\n",
       "      <td>3.559358</td>\n",
       "      <td>4.797057</td>\n",
       "      <td>4.864827</td>\n",
       "    </tr>\n",
       "    <tr>\n",
       "      <th>min</th>\n",
       "      <td>8.630000</td>\n",
       "      <td>15.687000</td>\n",
       "      <td>1.950000</td>\n",
       "    </tr>\n",
       "    <tr>\n",
       "      <th>25%</th>\n",
       "      <td>11.895250</td>\n",
       "      <td>18.716750</td>\n",
       "      <td>3.645500</td>\n",
       "    </tr>\n",
       "    <tr>\n",
       "      <th>50%</th>\n",
       "      <td>14.356500</td>\n",
       "      <td>21.017500</td>\n",
       "      <td>7.666500</td>\n",
       "    </tr>\n",
       "    <tr>\n",
       "      <th>75%</th>\n",
       "      <td>16.200750</td>\n",
       "      <td>24.051500</td>\n",
       "      <td>10.258500</td>\n",
       "    </tr>\n",
       "    <tr>\n",
       "      <th>max</th>\n",
       "      <td>22.328000</td>\n",
       "      <td>35.255000</td>\n",
       "      <td>21.919000</td>\n",
       "    </tr>\n",
       "  </tbody>\n",
       "</table>\n",
       "</div>"
      ],
      "text/plain": [
       "       Congruent  Incongruent      Delta\n",
       "count  24.000000    24.000000  24.000000\n",
       "mean   14.051125    22.015917   7.964792\n",
       "std     3.559358     4.797057   4.864827\n",
       "min     8.630000    15.687000   1.950000\n",
       "25%    11.895250    18.716750   3.645500\n",
       "50%    14.356500    21.017500   7.666500\n",
       "75%    16.200750    24.051500  10.258500\n",
       "max    22.328000    35.255000  21.919000"
      ]
     },
     "execution_count": 22,
     "metadata": {},
     "output_type": "execute_result"
    }
   ],
   "source": [
    "s.describe()"
   ]
  },
  {
   "cell_type": "markdown",
   "metadata": {},
   "source": [
    "The average time taken by test participants for congruent colors is approximately 14 seconds, whereas the average time taken by participants for the incongruent colors is approximately 22 seconds. Even the minimum difference between both tests by all participants in the sample is approximately 2 seconds. No participant has completed the test with incongruent colors in a shorter time than for congruent colors."
   ]
  },
  {
   "cell_type": "markdown",
   "metadata": {},
   "source": [
    "# Visualization - Question 4"
   ]
  },
  {
   "cell_type": "code",
   "execution_count": 29,
   "metadata": {},
   "outputs": [
    {
     "data": {
      "text/plain": [
       "array([[<matplotlib.axes._subplots.AxesSubplot object at 0x000000000CBAE828>,\n",
       "        <matplotlib.axes._subplots.AxesSubplot object at 0x000000000C8D7E80>],\n",
       "       [<matplotlib.axes._subplots.AxesSubplot object at 0x000000000C82F198>,\n",
       "        <matplotlib.axes._subplots.AxesSubplot object at 0x000000000C8AB5C0>]], dtype=object)"
      ]
     },
     "execution_count": 29,
     "metadata": {},
     "output_type": "execute_result"
    },
    {
     "data": {
      "image/png": "[encoded data removed]",
      "text/plain": [
       "<Figure size 432x288 with 4 Axes>"
      ]
     },
     "metadata": {},
     "output_type": "display_data"
    }
   ],
   "source": [
    "s.hist()"
   ]
  },
  {
   "cell_type": "markdown",
   "metadata": {},
   "source": [
    "The plots above show the histograms for the times taken by participants of the Stroop test in seconds, when being shown congruent colors, incongruent colors and the difference between both times (Delta). Unlike the expectation for a high number of samples, the distributions are anything but normal. This is most probably due to the low number of samples (24). All distributions are positively skewed, with values as shown in the cell below:"
   ]
  },
  {
   "cell_type": "code",
   "execution_count": 21,
   "metadata": {
    "scrolled": true
   },
   "outputs": [
    {
     "data": {
      "text/plain": [
       "Congruent      0.41690\n",
       "Incongruent    1.54759\n",
       "Delta          1.07321\n",
       "dtype: float64"
      ]
     },
     "execution_count": 21,
     "metadata": {},
     "output_type": "execute_result"
    }
   ],
   "source": [
    "s.skew()"
   ]
  },
  {
   "cell_type": "markdown",
   "metadata": {},
   "source": [
    "## Statistical Test - Question 5\n",
    "The following statistics are determined in order to determine, if the null hypothesis can be rejected or not:\n",
    "\n",
    "t-statistic: sampling distribution, when population parameters are estimated using the sample properties\n",
    "\n",
    ">The t-statistic is calculated based on the difference between the average times, participants have taken for congruent and incongruent tests\n",
    "\n",
    "alpha level: level of confidence for the statitical test\n",
    "\n",
    ">the alpha level can be chosen to reflect the expected confidence level. Typical alpha levels are 0.05, 0.001 and 0.001. These represent confidence levels of 95%, 99% and 99.9% respectively.\n",
    "\n",
    "confidence interval: interval of results corresponding to the chosen alpha level\n",
    "\n",
    ">the test result lies within the confidence interval with a level of confidence as defined by the alpha level\n",
    "\n",
    "Cohen's D: effect size in standard deviations\n",
    "\n",
    ">The effect in this case is the change in test time between congruent and incongruent tests\n",
    "\n",
    "R<sup>2</sup>: proportion of the variance of the dependent variable, that can be explained by the variance of the independent variable\n",
    "\n",
    ">remember, the dependent variable is the delta of test times, the independent variable is the test setup (congruent, incongruent)"
   ]
  },
  {
   "cell_type": "code",
   "execution_count": 47,
   "metadata": {},
   "outputs": [
    {
     "name": "stdout",
     "output_type": "stream",
     "text": [
      "degrees of freedom: 23\n",
      "t-statistic: 8.02\n",
      "Cohen's D: 1.64\n",
      "r squared: 0.74\n"
     ]
    }
   ],
   "source": [
    "# determine all necessary sample parameters in order to calculate the t-statistic and Cohen's D and r squared\n",
    "\n",
    "# number of samples n\n",
    "n = len(s['Delta'])\n",
    "# degrees of freedom df\n",
    "df = n-1\n",
    "# mean delta mud\n",
    "mud = s['Delta'].mean()\n",
    "# sample standard deviation S\n",
    "S = s['Delta'].std()\n",
    "\n",
    "# calculate the t-statistic t\n",
    "t = mud / (S/n**0.5)\n",
    "# calculate Cohen's D\n",
    "D = mud/S\n",
    "# calculate r squared\n",
    "r2 = t**2/(t**2 + df)\n",
    "\n",
    "print 'degrees of freedom: ' + str(df)\n",
    "print 't-statistic: ' + str(round(t,2))\n",
    "print 'Cohen\\'s D: ' + str(round(D,2))\n",
    "print 'r squared: ' + str(round(r2,2))"
   ]
  },
  {
   "cell_type": "markdown",
   "metadata": {},
   "source": [
    "A t-statistic of 8.02 is fairly high, showing that the observed effect is comparatively strong. Therefore, I choose an alpha level of 0.001, which corresponds to a confidence level of 99.9% and calculate the confidence interval CI for this alpha level and a two-tailed test."
   ]
  },
  {
   "cell_type": "code",
   "execution_count": 53,
   "metadata": {},
   "outputs": [
    {
     "name": "stdout",
     "output_type": "stream",
     "text": [
      "Confidence interval for the average difference between both tests\n",
      "\n",
      "CI: (5.18, 10.75)\n"
     ]
    }
   ],
   "source": [
    "# define alpha level\n",
    "alpha = 0.001\n",
    "# lookup t-critical for alpha = 0.01, df = 23 and a two-tailed test in t-table\n",
    "tcritical = 2.807\n",
    "\n",
    "# calculate confidence interval CI\n",
    "CIlower = mud - tcritical*(S/n**0.5)\n",
    "CIupper = mud + tcritical*(S/n**0.5)\n",
    "CI = (round(CIlower,2),round(CIupper,2))\n",
    "\n",
    "print 'Confidence interval for the average difference between both tests\\n\\nCI: ' + str(CI)"
   ]
  },
  {
   "cell_type": "markdown",
   "metadata": {},
   "source": [
    "This means, that the average difference between both tests is between 5.18 seconds and 10.75 seconds with a probability of greater than or equal to 99.9%\n",
    "\n",
    "This seems pretty sure to me. It can be concluded that the null hypothesis is rejected with a probability of greater than 99.9%.\n",
    "\n",
    "Cohen's D is at .64, meaning that the effect is 1.64 times the standard deviation of the deltas.\n",
    "\n",
    "R<sup>2</sup> is 0.74, which means, that most of the variance of the difference in test times can be explained by the variance of the test setup itself (congruent and incongruent tests)"
   ]
  },
  {
   "cell_type": "markdown",
   "metadata": {},
   "source": [
    "# Conclusion - Question 6\n",
    "It can be shown that when showing participants words of colors in congruently colored letters, these words can be read in significantly shorter time than when the colors and the words do not match as in the incongruent test. This might be due to the way the brain handles the recognition of words. We might have a certain preconception of what a word should look like and are confused, when the actual situation is different.\n",
    "\n",
    "It would be intersting to have a child that can distinguish colors but can't read yet to take this test and see if the times are more even as I would expect.\n",
    "\n",
    "I will try this on my 5 year old son right away :-)"
   ]
  },
  {
   "cell_type": "code",
   "execution_count": null,
   "metadata": {},
   "outputs": [],
   "source": []
  }
 ],
 "metadata": {
  "kernelspec": {
   "display_name": "Python 2",
   "language": "python",
   "name": "python2"
  },
  "language_info": {
   "codemirror_mode": {
    "name": "ipython",
    "version": 2
   },
   "file_extension": ".py",
   "mimetype": "text/x-python",
   "name": "python",
   "nbconvert_exporter": "python",
   "pygments_lexer": "ipython2",
   "version": "2.7.14"
  },
  "toc": {
   "nav_menu": {},
   "number_sections": true,
   "sideBar": true,
   "skip_h1_title": false,
   "title_cell": "Table of Contents",
   "title_sidebar": "Contents",
   "toc_cell": false,
   "toc_position": {},
   "toc_section_display": true,
   "toc_window_display": false
  }
 },
 "nbformat": 4,
 "nbformat_minor": 2
}
